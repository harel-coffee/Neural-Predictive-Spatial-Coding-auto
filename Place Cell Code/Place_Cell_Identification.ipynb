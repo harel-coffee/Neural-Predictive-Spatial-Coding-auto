{
 "cells": [
  {
   "cell_type": "markdown",
   "id": "d2317fe4",
   "metadata": {},
   "source": [
    "#### Place cell identification pipeline\n"
   ]
  },
  {
   "cell_type": "code",
   "execution_count": 1,
   "id": "27bb5255",
   "metadata": {},
   "outputs": [],
   "source": [
    "import pandas as pd\n",
    "import numpy as np\n",
    "import matplotlib.pyplot as plt\n",
    "import scipy.sparse as sps\n",
    "from scipy.ndimage import gaussian_filter\n",
    "from sklearn.feature_selection import mutual_info_regression as mi_skl\n",
    "import seaborn as sns\n",
    "from scipy import stats\n",
    "import time\n",
    "from matplotlib import gridspec\n",
    "import os \n",
    "\n",
    "color_dic = {'PRE':'midnightblue', \n",
    "             'SAM':'lightseagreen', \n",
    "             'CHO':'deepskyblue',\n",
    "             'Trajectory':'lightgrey',\n",
    "             'Startbox':'red',\n",
    "             'SW1':'turquoise', \n",
    "             'SW2':'mediumpurple', \n",
    "             'SW3':'cornflowerblue'} "
   ]
  },
  {
   "cell_type": "code",
   "execution_count": 4,
   "id": "bf2b7ef2",
   "metadata": {},
   "outputs": [],
   "source": [
    "#Load data\n",
    "ANIMALS = ['H0465','H0466', 'H0493', 'H2202','H2203','H0487'] #Animal IDS\n",
    "#-------------------------------------------------------------------------------------------\n",
    "#Path to data directory (dataDir is the only one that needs adapting)\n",
    "codeDir = os.getcwd()\n",
    "len2del = sum([len(i) for i in codeDir.split('/')[-2:]])+1\n",
    "homeDir = codeDir[:-len2del]\n",
    "dataDir = codeDir[:-sum([len(i) for i in codeDir.split('/')[-3:]])-2] + 'animal_data/'\n",
    "pcDIR = homeDir + \"/Data/Place cell meta\" #Where to save place cell table\n",
    "\n",
    "TRIALS = pd.read_csv(homeDir + \"/Data/Trial_breakdown.csv\") #Trial meta info \n",
    "SaveTo2 = homeDir+'Figures\\Figure 2 Calcium imaging' #Where to save figures"
   ]
  },
  {
   "cell_type": "code",
   "execution_count": 5,
   "id": "9f1de2b1",
   "metadata": {},
   "outputs": [],
   "source": [
    "def arena_binned(x, y, xdim, ydim, pix_cm, pf_cm):\n",
    "    \"\"\"Creates occupancy maps by bibning arena counting bin occupancy\n",
    "    INPUTS\n",
    "    ------\n",
    "    x = x pixel coordinates, \n",
    "    y = y pixel coordinates\n",
    "    xdim = pixel coordinates for the arena sides e.g. [0, 500]\n",
    "    ydim = pixel coordinates for the arena top and bottom e.g. [0, 500],\n",
    "    pix_cm = conversion of number of pixels to cm\n",
    "    pf_cm = size of the bins to use (cm)\n",
    "    \n",
    "    RETURNS:\n",
    "    ------\n",
    "    linS = Linearised bin occupancy\n",
    "    occMap = 2D matrix of occupancy values\n",
    "    nBnx = number of bins in x\n",
    "    nBny = number of bins in y \n",
    "    bx = bin edges x\n",
    "    by = bin edges y\n",
    "    \"\"\"\n",
    "    \n",
    "    d_x = xdim[0] - xdim[1] # xdim[0] = max, xdim[1] = min\n",
    "    d_y = ydim[0] - ydim[1] # ydim[0] = max, ydim[1] = min\n",
    "    nBnx = int((d_x/(pix_cm*pf_cm)))\n",
    "    nBny = int((d_y/(pix_cm*pf_cm)))\n",
    "    bn_x = [int(i) for i in np.linspace(xdim[0],xdim[1],nBnx)]\n",
    "    bn_y = [int(i) for i in np.linspace(ydim[0], ydim[1],nBny)]\n",
    "\n",
    "    bx = ((x-bn_x[0])/(bn_x[1]-bn_x[0])).astype(int)\n",
    "    by = ((y-bn_y[0])/(bn_y[1]-bn_y[0])).astype(int)\n",
    "    bx[bx>=20] = 19\n",
    "    by[by>=20] = 19\n",
    "    S = np.vstack((bx,by))\n",
    "    linS = np.ravel_multi_index(S,(nBnx,nBny))\n",
    "    occMap = sps.csr_matrix((np.ones(len(bx)),(bx,by)),shape=(nBnx,nBny),dtype=float).todense()\n",
    "    return linS.astype(float), occMap, nBnx, nBny, bx, by\n",
    "\n",
    "\n",
    "def bursting_check(linSpf, linS, e_trace, tr_delay):\n",
    "    \"\"\"Checks if the cell randomly bursts in a bin (which may equate to high mutual information)\n",
    "    or if it is firing consistently across bin visits\n",
    "    \n",
    "    INPUTS\n",
    "    ------\n",
    "    linSpf = linearised firing in each bin\n",
    "    linS = linearised occupancy in each bin\n",
    "    e_trace = event traces\n",
    "    tr_delay = the delay between bin entries to consider (e.g if the cell is bursting \n",
    "    and the animals leaves a bin for 1 second, then returns it may be mistinterpreted as a place cell  )\n",
    "    \n",
    "    RETURNS:\n",
    "    tr = the number of times the animal traverses that bin\n",
    "    rdm_burst = the number of traversals that the cell fires\n",
    "    \"\"\"\n",
    "    #Place field timestamps\n",
    "    pft_idxs = [i for i in range(len(linS)) if linS[i] in linSpf]\n",
    "  \n",
    "    #Seperate timestamps into traverals\n",
    "    tr_idxs_all = []; tr_idxs = []\n",
    "    i = 0\n",
    "    while i < len(pft_idxs)-1:\n",
    "        tr = pft_idxs[i+1]-pft_idxs[i]\n",
    "        tr_idxs.append(pft_idxs[i])\n",
    "\n",
    "        if tr > tr_delay: #acceptable delay between traversals\n",
    "            tr_idxs_all.append(tr_idxs)\n",
    "            tr_idxs = []\n",
    "        i += 1\n",
    "    \n",
    "    if len(tr_idxs_all) > 0: #If 1 single traversal\n",
    "        \n",
    "        #Calculate the number of traversals with events\n",
    "        tr = 0\n",
    "        for i in tr_idxs_all:\n",
    "            n_events = sum(e_trace[i])\n",
    "            if n_events > 0:\n",
    "                tr += 1\n",
    "    else:\n",
    "        tr = 1; tr_idxs_all = [[0]]\n",
    "    \n",
    "    return tr,(tr/len(tr_idxs_all))*100"
   ]
  },
  {
   "cell_type": "code",
   "execution_count": 13,
   "id": "2db10d86",
   "metadata": {},
   "outputs": [],
   "source": [
    "#PLACE CELL INCLUSION CRITERIA\n",
    "n_events = 3 # CONDITION 1: set n events for a cell to be considered\n",
    "perc_thresh = 99 # CONDITION 2: Set place cell spatial info percentile \n",
    "n_tr = 3 # CONDITION 3: set number of traversals to be considered\n",
    "tr_thresh = 20 # CONDITION 4: % traversals that cell fires <-- accounts for rdm bursting\n",
    "\n",
    "#ADDITIONAL PARAMS\n",
    "xdim = [575, 175] # Set arena x dimensions (northwest - (-20,-20), 320x320)\n",
    "ydim = [450,50] # Set Arena y dimensions\n",
    "pix_cm = 5 # Set how many pixels = 1 cm\n",
    "pf_cm = 4 # Set bin size for place field (cms)\n",
    "shuffles = 5000 # set number of shuffles to create SI distribution\n",
    "tr_delay = 40 # acceptable delay between traversals (frames)"
   ]
  },
  {
   "cell_type": "code",
   "execution_count": null,
   "id": "2966dd20",
   "metadata": {},
   "outputs": [
    {
     "name": "stdout",
     "output_type": "stream",
     "text": [
      "H0465 A01 CHO\n",
      "1 / 74\n",
      "2 / 74\n",
      "3 / 74\n",
      "4 / 74\n",
      "5 / 74\n",
      "6 / 74\n",
      "7 / 74\n",
      "8 / 74\n",
      "9 / 74\n",
      "10 / 74\n",
      "11 / 74\n",
      "12 / 74\n"
     ]
    },
    {
     "name": "stderr",
     "output_type": "stream",
     "text": [
      "<ipython-input-16-06f06973c1af>:28: SettingWithCopyWarning: \n",
      "A value is trying to be set on a copy of a slice from a DataFrame.\n",
      "Try using .loc[row_indexer,col_indexer] = value instead\n",
      "\n",
      "See the caveats in the documentation: https://pandas.pydata.org/pandas-docs/stable/user_guide/indexing.html#returning-a-view-versus-a-copy\n",
      "  e_traces[e_traces > 0] = 1 # OPTIONAL: Binarized events\n",
      "C:\\Users\\fgobbo\\Anaconda3\\lib\\site-packages\\pandas\\core\\frame.py:3089: SettingWithCopyWarning: \n",
      "A value is trying to be set on a copy of a slice from a DataFrame\n",
      "\n",
      "See the caveats in the documentation: https://pandas.pydata.org/pandas-docs/stable/user_guide/indexing.html#returning-a-view-versus-a-copy\n",
      "  self._where(-key, value, inplace=True)\n",
      "<ipython-input-16-06f06973c1af>:38: RuntimeWarning: invalid value encountered in true_divide\n",
      "  placeMap = np.divide(rateMap,occMap); placeMap[np.isnan(placeMap)] = 0\n"
     ]
    },
    {
     "name": "stdout",
     "output_type": "stream",
     "text": [
      "1000 shuffles completed\n",
      "2000 shuffles completed\n",
      "3000 shuffles completed\n",
      "4000 shuffles completed\n",
      "13 / 74\n",
      "14 / 74\n",
      "15 / 74\n",
      "16 / 74\n",
      "17 / 74\n",
      "18 / 74\n",
      "19 / 74\n",
      "20 / 74\n",
      "21 / 74\n",
      "22 / 74\n",
      "23 / 74\n",
      "24 / 74\n",
      "25 / 74\n",
      "26 / 74\n",
      "27 / 74\n",
      "28 / 74\n",
      "29 / 74\n",
      "30 / 74\n",
      "31 / 74\n",
      "32 / 74\n",
      "33 / 74\n",
      "34 / 74\n",
      "35 / 74\n",
      "36 / 74\n",
      "37 / 74\n"
     ]
    },
    {
     "name": "stderr",
     "output_type": "stream",
     "text": [
      "<ipython-input-16-06f06973c1af>:38: RuntimeWarning: invalid value encountered in true_divide\n",
      "  placeMap = np.divide(rateMap,occMap); placeMap[np.isnan(placeMap)] = 0\n"
     ]
    },
    {
     "name": "stdout",
     "output_type": "stream",
     "text": [
      "1000 shuffles completed\n",
      "2000 shuffles completed\n",
      "3000 shuffles completed\n",
      "4000 shuffles completed\n",
      "38 / 74\n",
      "39 / 74\n",
      "40 / 74\n",
      "41 / 74\n",
      "42 / 74\n",
      "43 / 74\n",
      "44 / 74\n",
      "45 / 74\n",
      "46 / 74\n",
      "47 / 74\n",
      "48 / 74\n",
      "49 / 74\n",
      "50 / 74\n",
      "51 / 74\n",
      "52 / 74\n",
      "53 / 74\n",
      "54 / 74\n",
      "55 / 74\n",
      "56 / 74\n",
      "57 / 74\n",
      "58 / 74\n",
      "59 / 74\n",
      "60 / 74\n",
      "61 / 74\n"
     ]
    },
    {
     "name": "stderr",
     "output_type": "stream",
     "text": [
      "<ipython-input-16-06f06973c1af>:38: RuntimeWarning: invalid value encountered in true_divide\n",
      "  placeMap = np.divide(rateMap,occMap); placeMap[np.isnan(placeMap)] = 0\n"
     ]
    },
    {
     "name": "stdout",
     "output_type": "stream",
     "text": [
      "1000 shuffles completed\n",
      "2000 shuffles completed\n",
      "3000 shuffles completed\n",
      "4000 shuffles completed\n",
      "62 / 74\n",
      "63 / 74\n",
      "64 / 74\n",
      "65 / 74\n",
      "66 / 74\n",
      "67 / 74\n",
      "68 / 74\n",
      "69 / 74\n",
      "70 / 74\n",
      "71 / 74\n",
      "72 / 74\n",
      "73 / 74\n",
      "74 / 74\n"
     ]
    },
    {
     "name": "stderr",
     "output_type": "stream",
     "text": [
      "<ipython-input-16-06f06973c1af>:38: RuntimeWarning: invalid value encountered in true_divide\n",
      "  placeMap = np.divide(rateMap,occMap); placeMap[np.isnan(placeMap)] = 0\n"
     ]
    },
    {
     "name": "stdout",
     "output_type": "stream",
     "text": [
      "0 out of 74 cells have been identified as place cells\n",
      "0.0  Percent of cells are place cells\n",
      "H0465 A01 PRE\n"
     ]
    },
    {
     "name": "stderr",
     "output_type": "stream",
     "text": [
      "<ipython-input-16-06f06973c1af>:28: SettingWithCopyWarning: \n",
      "A value is trying to be set on a copy of a slice from a DataFrame.\n",
      "Try using .loc[row_indexer,col_indexer] = value instead\n",
      "\n",
      "See the caveats in the documentation: https://pandas.pydata.org/pandas-docs/stable/user_guide/indexing.html#returning-a-view-versus-a-copy\n",
      "  e_traces[e_traces > 0] = 1 # OPTIONAL: Binarized events\n",
      "C:\\Users\\fgobbo\\Anaconda3\\lib\\site-packages\\pandas\\core\\frame.py:3089: SettingWithCopyWarning: \n",
      "A value is trying to be set on a copy of a slice from a DataFrame\n",
      "\n",
      "See the caveats in the documentation: https://pandas.pydata.org/pandas-docs/stable/user_guide/indexing.html#returning-a-view-versus-a-copy\n",
      "  self._where(-key, value, inplace=True)\n",
      "<ipython-input-16-06f06973c1af>:38: RuntimeWarning: invalid value encountered in true_divide\n",
      "  placeMap = np.divide(rateMap,occMap); placeMap[np.isnan(placeMap)] = 0\n"
     ]
    },
    {
     "name": "stdout",
     "output_type": "stream",
     "text": [
      "1 / 74\n",
      "1000 shuffles completed\n",
      "2000 shuffles completed\n",
      "3000 shuffles completed\n",
      "4000 shuffles completed\n",
      "2 / 74\n",
      "3 / 74\n",
      "4 / 74\n",
      "5 / 74\n",
      "6 / 74\n",
      "7 / 74\n",
      "8 / 74\n",
      "9 / 74\n",
      "10 / 74\n",
      "11 / 74\n",
      "12 / 74\n",
      "13 / 74\n",
      "14 / 74\n",
      "15 / 74\n",
      "16 / 74\n"
     ]
    },
    {
     "name": "stderr",
     "output_type": "stream",
     "text": [
      "<ipython-input-16-06f06973c1af>:38: RuntimeWarning: invalid value encountered in true_divide\n",
      "  placeMap = np.divide(rateMap,occMap); placeMap[np.isnan(placeMap)] = 0\n"
     ]
    },
    {
     "name": "stdout",
     "output_type": "stream",
     "text": [
      "1000 shuffles completed\n",
      "2000 shuffles completed\n",
      "3000 shuffles completed\n",
      "4000 shuffles completed\n",
      "17 / 74\n",
      "18 / 74\n",
      "19 / 74\n",
      "20 / 74\n",
      "21 / 74\n",
      "22 / 74\n",
      "23 / 74\n",
      "24 / 74\n",
      "25 / 74\n",
      "26 / 74\n",
      "27 / 74\n"
     ]
    },
    {
     "name": "stderr",
     "output_type": "stream",
     "text": [
      "<ipython-input-16-06f06973c1af>:38: RuntimeWarning: invalid value encountered in true_divide\n",
      "  placeMap = np.divide(rateMap,occMap); placeMap[np.isnan(placeMap)] = 0\n"
     ]
    },
    {
     "name": "stdout",
     "output_type": "stream",
     "text": [
      "1000 shuffles completed\n",
      "2000 shuffles completed\n",
      "3000 shuffles completed\n",
      "4000 shuffles completed\n",
      " C026 Is a place cell with 5 traversals\n",
      "28 / 74\n",
      "29 / 74\n",
      "30 / 74\n",
      "31 / 74\n",
      "32 / 74\n",
      "33 / 74\n",
      "34 / 74\n"
     ]
    },
    {
     "name": "stderr",
     "output_type": "stream",
     "text": [
      "<ipython-input-16-06f06973c1af>:38: RuntimeWarning: invalid value encountered in true_divide\n",
      "  placeMap = np.divide(rateMap,occMap); placeMap[np.isnan(placeMap)] = 0\n"
     ]
    },
    {
     "name": "stdout",
     "output_type": "stream",
     "text": [
      "1000 shuffles completed\n",
      "2000 shuffles completed\n",
      "3000 shuffles completed\n",
      "4000 shuffles completed\n",
      " C033 Is a place cell with 5 traversals\n",
      "35 / 74\n",
      "36 / 74\n",
      "37 / 74\n"
     ]
    },
    {
     "name": "stderr",
     "output_type": "stream",
     "text": [
      "<ipython-input-16-06f06973c1af>:38: RuntimeWarning: invalid value encountered in true_divide\n",
      "  placeMap = np.divide(rateMap,occMap); placeMap[np.isnan(placeMap)] = 0\n"
     ]
    },
    {
     "name": "stdout",
     "output_type": "stream",
     "text": [
      "1000 shuffles completed\n",
      "2000 shuffles completed\n",
      "3000 shuffles completed\n",
      "4000 shuffles completed\n",
      " C036 Is a place cell with 9 traversals\n",
      "38 / 74\n",
      "39 / 74\n"
     ]
    },
    {
     "name": "stderr",
     "output_type": "stream",
     "text": [
      "<ipython-input-16-06f06973c1af>:38: RuntimeWarning: invalid value encountered in true_divide\n",
      "  placeMap = np.divide(rateMap,occMap); placeMap[np.isnan(placeMap)] = 0\n"
     ]
    },
    {
     "name": "stdout",
     "output_type": "stream",
     "text": [
      "1000 shuffles completed\n",
      "2000 shuffles completed\n",
      "3000 shuffles completed\n",
      "4000 shuffles completed\n",
      "40 / 74\n"
     ]
    },
    {
     "name": "stderr",
     "output_type": "stream",
     "text": [
      "<ipython-input-16-06f06973c1af>:38: RuntimeWarning: invalid value encountered in true_divide\n",
      "  placeMap = np.divide(rateMap,occMap); placeMap[np.isnan(placeMap)] = 0\n"
     ]
    },
    {
     "name": "stdout",
     "output_type": "stream",
     "text": [
      "1000 shuffles completed\n",
      "2000 shuffles completed\n",
      "3000 shuffles completed\n",
      "4000 shuffles completed\n",
      "41 / 74\n"
     ]
    },
    {
     "name": "stderr",
     "output_type": "stream",
     "text": [
      "<ipython-input-16-06f06973c1af>:38: RuntimeWarning: invalid value encountered in true_divide\n",
      "  placeMap = np.divide(rateMap,occMap); placeMap[np.isnan(placeMap)] = 0\n"
     ]
    },
    {
     "name": "stdout",
     "output_type": "stream",
     "text": [
      "1000 shuffles completed\n",
      "2000 shuffles completed\n",
      "3000 shuffles completed\n",
      "4000 shuffles completed\n",
      " C040 Is a place cell with 5 traversals\n",
      "42 / 74\n",
      "43 / 74\n"
     ]
    },
    {
     "name": "stderr",
     "output_type": "stream",
     "text": [
      "<ipython-input-16-06f06973c1af>:38: RuntimeWarning: invalid value encountered in true_divide\n",
      "  placeMap = np.divide(rateMap,occMap); placeMap[np.isnan(placeMap)] = 0\n"
     ]
    },
    {
     "name": "stdout",
     "output_type": "stream",
     "text": [
      "1000 shuffles completed\n",
      "2000 shuffles completed\n",
      "3000 shuffles completed\n",
      "4000 shuffles completed\n",
      " C042 Is a place cell with 5 traversals\n",
      "44 / 74\n",
      "45 / 74\n",
      "46 / 74\n",
      "47 / 74\n"
     ]
    },
    {
     "name": "stderr",
     "output_type": "stream",
     "text": [
      "<ipython-input-16-06f06973c1af>:38: RuntimeWarning: invalid value encountered in true_divide\n",
      "  placeMap = np.divide(rateMap,occMap); placeMap[np.isnan(placeMap)] = 0\n"
     ]
    },
    {
     "name": "stdout",
     "output_type": "stream",
     "text": [
      "1000 shuffles completed\n",
      "2000 shuffles completed\n",
      "3000 shuffles completed\n",
      "4000 shuffles completed\n",
      "48 / 74\n",
      "49 / 74\n",
      "50 / 74\n",
      "51 / 74\n",
      "52 / 74\n"
     ]
    },
    {
     "name": "stderr",
     "output_type": "stream",
     "text": [
      "<ipython-input-16-06f06973c1af>:38: RuntimeWarning: invalid value encountered in true_divide\n",
      "  placeMap = np.divide(rateMap,occMap); placeMap[np.isnan(placeMap)] = 0\n"
     ]
    },
    {
     "name": "stdout",
     "output_type": "stream",
     "text": [
      "1000 shuffles completed\n",
      "2000 shuffles completed\n",
      "3000 shuffles completed\n",
      "4000 shuffles completed\n",
      " C051 Is a place cell with 6 traversals\n",
      "53 / 74\n",
      "54 / 74\n"
     ]
    },
    {
     "name": "stderr",
     "output_type": "stream",
     "text": [
      "<ipython-input-16-06f06973c1af>:38: RuntimeWarning: invalid value encountered in true_divide\n",
      "  placeMap = np.divide(rateMap,occMap); placeMap[np.isnan(placeMap)] = 0\n"
     ]
    },
    {
     "name": "stdout",
     "output_type": "stream",
     "text": [
      "1000 shuffles completed\n",
      "2000 shuffles completed\n",
      "3000 shuffles completed\n",
      "4000 shuffles completed\n",
      "55 / 74\n"
     ]
    },
    {
     "name": "stderr",
     "output_type": "stream",
     "text": [
      "<ipython-input-16-06f06973c1af>:38: RuntimeWarning: invalid value encountered in true_divide\n",
      "  placeMap = np.divide(rateMap,occMap); placeMap[np.isnan(placeMap)] = 0\n"
     ]
    },
    {
     "name": "stdout",
     "output_type": "stream",
     "text": [
      "1000 shuffles completed\n",
      "2000 shuffles completed\n",
      "3000 shuffles completed\n",
      "4000 shuffles completed\n",
      "56 / 74\n"
     ]
    },
    {
     "name": "stderr",
     "output_type": "stream",
     "text": [
      "<ipython-input-16-06f06973c1af>:38: RuntimeWarning: invalid value encountered in true_divide\n",
      "  placeMap = np.divide(rateMap,occMap); placeMap[np.isnan(placeMap)] = 0\n"
     ]
    },
    {
     "name": "stdout",
     "output_type": "stream",
     "text": [
      "1000 shuffles completed\n",
      "2000 shuffles completed\n",
      "3000 shuffles completed\n",
      "4000 shuffles completed\n",
      "57 / 74\n"
     ]
    },
    {
     "name": "stderr",
     "output_type": "stream",
     "text": [
      "<ipython-input-16-06f06973c1af>:38: RuntimeWarning: invalid value encountered in true_divide\n",
      "  placeMap = np.divide(rateMap,occMap); placeMap[np.isnan(placeMap)] = 0\n"
     ]
    },
    {
     "name": "stdout",
     "output_type": "stream",
     "text": [
      "1000 shuffles completed\n",
      "2000 shuffles completed\n",
      "3000 shuffles completed\n",
      "4000 shuffles completed\n",
      " C056 Is a place cell with 5 traversals\n",
      "58 / 74\n",
      "59 / 74\n",
      "60 / 74\n"
     ]
    },
    {
     "name": "stderr",
     "output_type": "stream",
     "text": [
      "<ipython-input-16-06f06973c1af>:38: RuntimeWarning: invalid value encountered in true_divide\n",
      "  placeMap = np.divide(rateMap,occMap); placeMap[np.isnan(placeMap)] = 0\n"
     ]
    },
    {
     "name": "stdout",
     "output_type": "stream",
     "text": [
      "1000 shuffles completed\n",
      "2000 shuffles completed\n",
      "3000 shuffles completed\n",
      "4000 shuffles completed\n",
      "61 / 74\n"
     ]
    },
    {
     "name": "stderr",
     "output_type": "stream",
     "text": [
      "<ipython-input-16-06f06973c1af>:38: RuntimeWarning: invalid value encountered in true_divide\n",
      "  placeMap = np.divide(rateMap,occMap); placeMap[np.isnan(placeMap)] = 0\n"
     ]
    },
    {
     "name": "stdout",
     "output_type": "stream",
     "text": [
      "1000 shuffles completed\n",
      "2000 shuffles completed\n",
      "3000 shuffles completed\n",
      "4000 shuffles completed\n",
      "62 / 74\n"
     ]
    },
    {
     "name": "stderr",
     "output_type": "stream",
     "text": [
      "<ipython-input-16-06f06973c1af>:38: RuntimeWarning: invalid value encountered in true_divide\n",
      "  placeMap = np.divide(rateMap,occMap); placeMap[np.isnan(placeMap)] = 0\n"
     ]
    },
    {
     "name": "stdout",
     "output_type": "stream",
     "text": [
      "1000 shuffles completed\n",
      "2000 shuffles completed\n",
      "3000 shuffles completed\n",
      "4000 shuffles completed\n",
      " C061 Is a place cell with 8 traversals\n",
      "63 / 74\n",
      "64 / 74\n"
     ]
    },
    {
     "name": "stderr",
     "output_type": "stream",
     "text": [
      "<ipython-input-16-06f06973c1af>:38: RuntimeWarning: invalid value encountered in true_divide\n",
      "  placeMap = np.divide(rateMap,occMap); placeMap[np.isnan(placeMap)] = 0\n"
     ]
    },
    {
     "name": "stdout",
     "output_type": "stream",
     "text": [
      "1000 shuffles completed\n",
      "2000 shuffles completed\n",
      "3000 shuffles completed\n",
      "4000 shuffles completed\n",
      "65 / 74\n",
      "66 / 74\n"
     ]
    },
    {
     "name": "stderr",
     "output_type": "stream",
     "text": [
      "<ipython-input-16-06f06973c1af>:38: RuntimeWarning: invalid value encountered in true_divide\n",
      "  placeMap = np.divide(rateMap,occMap); placeMap[np.isnan(placeMap)] = 0\n"
     ]
    },
    {
     "name": "stdout",
     "output_type": "stream",
     "text": [
      "1000 shuffles completed\n",
      "2000 shuffles completed\n",
      "3000 shuffles completed\n",
      "4000 shuffles completed\n",
      "67 / 74\n",
      "68 / 74\n",
      "69 / 74\n",
      "70 / 74\n",
      "71 / 74\n",
      "72 / 74\n",
      "73 / 74\n",
      "74 / 74\n",
      "8 out of 74 cells have been identified as place cells\n",
      "10.81081081081081  Percent of cells are place cells\n",
      "H0465 A01 SAM\n"
     ]
    },
    {
     "name": "stderr",
     "output_type": "stream",
     "text": [
      "<ipython-input-16-06f06973c1af>:38: RuntimeWarning: invalid value encountered in true_divide\n",
      "  placeMap = np.divide(rateMap,occMap); placeMap[np.isnan(placeMap)] = 0\n",
      "<ipython-input-16-06f06973c1af>:28: SettingWithCopyWarning: \n",
      "A value is trying to be set on a copy of a slice from a DataFrame.\n",
      "Try using .loc[row_indexer,col_indexer] = value instead\n",
      "\n",
      "See the caveats in the documentation: https://pandas.pydata.org/pandas-docs/stable/user_guide/indexing.html#returning-a-view-versus-a-copy\n",
      "  e_traces[e_traces > 0] = 1 # OPTIONAL: Binarized events\n",
      "C:\\Users\\fgobbo\\Anaconda3\\lib\\site-packages\\pandas\\core\\frame.py:3089: SettingWithCopyWarning: \n",
      "A value is trying to be set on a copy of a slice from a DataFrame\n",
      "\n",
      "See the caveats in the documentation: https://pandas.pydata.org/pandas-docs/stable/user_guide/indexing.html#returning-a-view-versus-a-copy\n",
      "  self._where(-key, value, inplace=True)\n",
      "<ipython-input-16-06f06973c1af>:38: RuntimeWarning: invalid value encountered in true_divide\n",
      "  placeMap = np.divide(rateMap,occMap); placeMap[np.isnan(placeMap)] = 0\n"
     ]
    },
    {
     "name": "stdout",
     "output_type": "stream",
     "text": [
      "1 / 74\n",
      "2 / 74\n",
      "3 / 74\n",
      "4 / 74\n",
      "1000 shuffles completed\n",
      "2000 shuffles completed\n",
      "3000 shuffles completed\n",
      "4000 shuffles completed\n",
      "5 / 74\n",
      "6 / 74\n",
      "7 / 74\n",
      "8 / 74\n",
      "9 / 74\n",
      "10 / 74\n",
      "11 / 74\n",
      "12 / 74\n",
      "13 / 74\n"
     ]
    },
    {
     "name": "stderr",
     "output_type": "stream",
     "text": [
      "<ipython-input-16-06f06973c1af>:38: RuntimeWarning: invalid value encountered in true_divide\n",
      "  placeMap = np.divide(rateMap,occMap); placeMap[np.isnan(placeMap)] = 0\n"
     ]
    },
    {
     "name": "stdout",
     "output_type": "stream",
     "text": [
      "1000 shuffles completed\n",
      "2000 shuffles completed\n",
      "3000 shuffles completed\n",
      "4000 shuffles completed\n",
      "14 / 74\n",
      "15 / 74\n",
      "16 / 74\n",
      "17 / 74\n",
      "18 / 74\n",
      "19 / 74\n",
      "20 / 74\n",
      "21 / 74\n",
      "22 / 74\n",
      "23 / 74\n",
      "24 / 74\n",
      "25 / 74\n",
      "26 / 74\n",
      "27 / 74\n",
      "28 / 74\n",
      "29 / 74\n",
      "30 / 74\n",
      "31 / 74\n",
      "32 / 74\n",
      "33 / 74\n",
      "34 / 74\n"
     ]
    },
    {
     "name": "stderr",
     "output_type": "stream",
     "text": [
      "<ipython-input-16-06f06973c1af>:38: RuntimeWarning: invalid value encountered in true_divide\n",
      "  placeMap = np.divide(rateMap,occMap); placeMap[np.isnan(placeMap)] = 0\n"
     ]
    },
    {
     "name": "stdout",
     "output_type": "stream",
     "text": [
      "1000 shuffles completed\n",
      "2000 shuffles completed\n",
      "3000 shuffles completed\n",
      "4000 shuffles completed\n",
      "35 / 74\n",
      "36 / 74\n",
      "37 / 74\n"
     ]
    },
    {
     "name": "stderr",
     "output_type": "stream",
     "text": [
      "<ipython-input-16-06f06973c1af>:38: RuntimeWarning: invalid value encountered in true_divide\n",
      "  placeMap = np.divide(rateMap,occMap); placeMap[np.isnan(placeMap)] = 0\n"
     ]
    },
    {
     "name": "stdout",
     "output_type": "stream",
     "text": [
      "1000 shuffles completed\n",
      "2000 shuffles completed\n",
      "3000 shuffles completed\n",
      "4000 shuffles completed\n",
      "38 / 74\n",
      "39 / 74\n",
      "40 / 74\n",
      "41 / 74\n",
      "42 / 74\n",
      "43 / 74\n",
      "44 / 74\n",
      "45 / 74\n",
      "46 / 74\n",
      "47 / 74\n",
      "48 / 74\n",
      "49 / 74\n",
      "50 / 74\n",
      "51 / 74\n",
      "52 / 74\n",
      "53 / 74\n",
      "54 / 74\n",
      "55 / 74\n",
      "56 / 74\n",
      "57 / 74\n"
     ]
    },
    {
     "name": "stderr",
     "output_type": "stream",
     "text": [
      "<ipython-input-16-06f06973c1af>:38: RuntimeWarning: invalid value encountered in true_divide\n",
      "  placeMap = np.divide(rateMap,occMap); placeMap[np.isnan(placeMap)] = 0\n"
     ]
    },
    {
     "name": "stdout",
     "output_type": "stream",
     "text": [
      "1000 shuffles completed\n",
      "2000 shuffles completed\n",
      "3000 shuffles completed\n",
      "4000 shuffles completed\n",
      "58 / 74\n",
      "59 / 74\n",
      "60 / 74\n",
      "61 / 74\n"
     ]
    },
    {
     "name": "stderr",
     "output_type": "stream",
     "text": [
      "<ipython-input-16-06f06973c1af>:38: RuntimeWarning: invalid value encountered in true_divide\n",
      "  placeMap = np.divide(rateMap,occMap); placeMap[np.isnan(placeMap)] = 0\n"
     ]
    },
    {
     "name": "stdout",
     "output_type": "stream",
     "text": [
      "1000 shuffles completed\n",
      "2000 shuffles completed\n",
      "3000 shuffles completed\n",
      "4000 shuffles completed\n",
      "62 / 74\n",
      "63 / 74\n",
      "64 / 74\n",
      "65 / 74\n"
     ]
    },
    {
     "name": "stderr",
     "output_type": "stream",
     "text": [
      "<ipython-input-16-06f06973c1af>:38: RuntimeWarning: invalid value encountered in true_divide\n",
      "  placeMap = np.divide(rateMap,occMap); placeMap[np.isnan(placeMap)] = 0\n"
     ]
    },
    {
     "name": "stdout",
     "output_type": "stream",
     "text": [
      "1000 shuffles completed\n",
      "2000 shuffles completed\n",
      "3000 shuffles completed\n",
      "4000 shuffles completed\n",
      "66 / 74\n",
      "67 / 74\n",
      "68 / 74\n",
      "69 / 74\n",
      "70 / 74\n",
      "71 / 74\n",
      "72 / 74\n",
      "73 / 74\n",
      "74 / 74\n",
      "0 out of 74 cells have been identified as place cells\n",
      "0.0  Percent of cells are place cells\n",
      "H0465 A02 CHO\n"
     ]
    },
    {
     "name": "stderr",
     "output_type": "stream",
     "text": [
      "<ipython-input-16-06f06973c1af>:38: RuntimeWarning: invalid value encountered in true_divide\n",
      "  placeMap = np.divide(rateMap,occMap); placeMap[np.isnan(placeMap)] = 0\n",
      "<ipython-input-16-06f06973c1af>:28: SettingWithCopyWarning: \n",
      "A value is trying to be set on a copy of a slice from a DataFrame.\n",
      "Try using .loc[row_indexer,col_indexer] = value instead\n",
      "\n",
      "See the caveats in the documentation: https://pandas.pydata.org/pandas-docs/stable/user_guide/indexing.html#returning-a-view-versus-a-copy\n",
      "  e_traces[e_traces > 0] = 1 # OPTIONAL: Binarized events\n",
      "C:\\Users\\fgobbo\\Anaconda3\\lib\\site-packages\\pandas\\core\\frame.py:3089: SettingWithCopyWarning: \n",
      "A value is trying to be set on a copy of a slice from a DataFrame\n",
      "\n",
      "See the caveats in the documentation: https://pandas.pydata.org/pandas-docs/stable/user_guide/indexing.html#returning-a-view-versus-a-copy\n",
      "  self._where(-key, value, inplace=True)\n",
      "<ipython-input-16-06f06973c1af>:38: RuntimeWarning: invalid value encountered in true_divide\n",
      "  placeMap = np.divide(rateMap,occMap); placeMap[np.isnan(placeMap)] = 0\n"
     ]
    },
    {
     "name": "stdout",
     "output_type": "stream",
     "text": [
      "1 / 74\n",
      "2 / 74\n",
      "3 / 74\n",
      "4 / 74\n",
      "5 / 74\n",
      "1000 shuffles completed\n",
      "2000 shuffles completed\n",
      "3000 shuffles completed\n",
      "4000 shuffles completed\n",
      "6 / 74\n",
      "7 / 74\n",
      "8 / 74\n",
      "9 / 74\n",
      "10 / 74\n",
      "11 / 74\n",
      "12 / 74\n"
     ]
    },
    {
     "name": "stderr",
     "output_type": "stream",
     "text": [
      "<ipython-input-16-06f06973c1af>:38: RuntimeWarning: invalid value encountered in true_divide\n",
      "  placeMap = np.divide(rateMap,occMap); placeMap[np.isnan(placeMap)] = 0\n"
     ]
    },
    {
     "name": "stdout",
     "output_type": "stream",
     "text": [
      "1000 shuffles completed\n",
      "2000 shuffles completed\n",
      "3000 shuffles completed\n",
      "4000 shuffles completed\n",
      "13 / 74\n",
      "14 / 74\n",
      "15 / 74\n",
      "16 / 74\n",
      "17 / 74\n"
     ]
    },
    {
     "name": "stderr",
     "output_type": "stream",
     "text": [
      "<ipython-input-16-06f06973c1af>:38: RuntimeWarning: invalid value encountered in true_divide\n",
      "  placeMap = np.divide(rateMap,occMap); placeMap[np.isnan(placeMap)] = 0\n"
     ]
    },
    {
     "name": "stdout",
     "output_type": "stream",
     "text": [
      "1000 shuffles completed\n",
      "2000 shuffles completed\n",
      "3000 shuffles completed\n",
      "4000 shuffles completed\n",
      " C016 Is a place cell with 5 traversals\n",
      "18 / 74\n",
      "19 / 74\n",
      "20 / 74\n",
      "21 / 74\n",
      "22 / 74\n",
      "23 / 74\n",
      "24 / 74\n",
      "25 / 74\n",
      "26 / 74\n",
      "27 / 74\n",
      "28 / 74\n",
      "29 / 74\n"
     ]
    },
    {
     "name": "stderr",
     "output_type": "stream",
     "text": [
      "<ipython-input-16-06f06973c1af>:38: RuntimeWarning: invalid value encountered in true_divide\n",
      "  placeMap = np.divide(rateMap,occMap); placeMap[np.isnan(placeMap)] = 0\n"
     ]
    },
    {
     "name": "stdout",
     "output_type": "stream",
     "text": [
      "1000 shuffles completed\n",
      "2000 shuffles completed\n",
      "3000 shuffles completed\n",
      "4000 shuffles completed\n",
      "30 / 74\n",
      "31 / 74\n",
      "32 / 74\n",
      "33 / 74\n",
      "34 / 74\n"
     ]
    },
    {
     "name": "stderr",
     "output_type": "stream",
     "text": [
      "<ipython-input-16-06f06973c1af>:38: RuntimeWarning: invalid value encountered in true_divide\n",
      "  placeMap = np.divide(rateMap,occMap); placeMap[np.isnan(placeMap)] = 0\n"
     ]
    },
    {
     "name": "stdout",
     "output_type": "stream",
     "text": [
      "1000 shuffles completed\n",
      "2000 shuffles completed\n",
      "3000 shuffles completed\n",
      "4000 shuffles completed\n",
      "35 / 74\n",
      "36 / 74\n",
      "37 / 74\n"
     ]
    },
    {
     "name": "stderr",
     "output_type": "stream",
     "text": [
      "<ipython-input-16-06f06973c1af>:38: RuntimeWarning: invalid value encountered in true_divide\n",
      "  placeMap = np.divide(rateMap,occMap); placeMap[np.isnan(placeMap)] = 0\n"
     ]
    },
    {
     "name": "stdout",
     "output_type": "stream",
     "text": [
      "1000 shuffles completed\n",
      "2000 shuffles completed\n",
      "3000 shuffles completed\n",
      "4000 shuffles completed\n",
      "38 / 74\n",
      "39 / 74\n",
      "40 / 74\n",
      "41 / 74\n",
      "42 / 74\n",
      "43 / 74\n",
      "44 / 74\n",
      "45 / 74\n",
      "46 / 74\n",
      "47 / 74\n",
      "48 / 74\n",
      "49 / 74\n",
      "50 / 74\n",
      "51 / 74\n",
      "52 / 74\n",
      "53 / 74\n",
      "54 / 74\n",
      "55 / 74\n"
     ]
    },
    {
     "name": "stderr",
     "output_type": "stream",
     "text": [
      "<ipython-input-16-06f06973c1af>:38: RuntimeWarning: invalid value encountered in true_divide\n",
      "  placeMap = np.divide(rateMap,occMap); placeMap[np.isnan(placeMap)] = 0\n"
     ]
    },
    {
     "name": "stdout",
     "output_type": "stream",
     "text": [
      "1000 shuffles completed\n",
      "2000 shuffles completed\n",
      "3000 shuffles completed\n",
      "4000 shuffles completed\n",
      "56 / 74\n"
     ]
    },
    {
     "name": "stderr",
     "output_type": "stream",
     "text": [
      "<ipython-input-16-06f06973c1af>:38: RuntimeWarning: invalid value encountered in true_divide\n",
      "  placeMap = np.divide(rateMap,occMap); placeMap[np.isnan(placeMap)] = 0\n"
     ]
    },
    {
     "name": "stdout",
     "output_type": "stream",
     "text": [
      "1000 shuffles completed\n",
      "2000 shuffles completed\n",
      "3000 shuffles completed\n",
      "4000 shuffles completed\n",
      "57 / 74\n"
     ]
    },
    {
     "name": "stderr",
     "output_type": "stream",
     "text": [
      "<ipython-input-16-06f06973c1af>:38: RuntimeWarning: invalid value encountered in true_divide\n",
      "  placeMap = np.divide(rateMap,occMap); placeMap[np.isnan(placeMap)] = 0\n"
     ]
    },
    {
     "name": "stdout",
     "output_type": "stream",
     "text": [
      "1000 shuffles completed\n",
      "2000 shuffles completed\n",
      "3000 shuffles completed\n",
      "4000 shuffles completed\n",
      "58 / 74\n",
      "59 / 74\n",
      "60 / 74\n",
      "61 / 74\n",
      "62 / 74\n"
     ]
    },
    {
     "name": "stderr",
     "output_type": "stream",
     "text": [
      "<ipython-input-16-06f06973c1af>:38: RuntimeWarning: invalid value encountered in true_divide\n",
      "  placeMap = np.divide(rateMap,occMap); placeMap[np.isnan(placeMap)] = 0\n"
     ]
    },
    {
     "name": "stdout",
     "output_type": "stream",
     "text": [
      "1000 shuffles completed\n",
      "2000 shuffles completed\n",
      "3000 shuffles completed\n",
      "4000 shuffles completed\n",
      "63 / 74\n",
      "64 / 74\n",
      "65 / 74\n",
      "66 / 74\n",
      "67 / 74\n",
      "68 / 74\n",
      "69 / 74\n",
      "70 / 74\n",
      "71 / 74\n",
      "72 / 74\n",
      "73 / 74\n",
      "74 / 74\n",
      "1 out of 74 cells have been identified as place cells\n",
      "1.3513513513513513  Percent of cells are place cells\n",
      "H0465 A02 PRE\n"
     ]
    },
    {
     "name": "stderr",
     "output_type": "stream",
     "text": [
      "<ipython-input-16-06f06973c1af>:38: RuntimeWarning: invalid value encountered in true_divide\n",
      "  placeMap = np.divide(rateMap,occMap); placeMap[np.isnan(placeMap)] = 0\n",
      "<ipython-input-16-06f06973c1af>:28: SettingWithCopyWarning: \n",
      "A value is trying to be set on a copy of a slice from a DataFrame.\n",
      "Try using .loc[row_indexer,col_indexer] = value instead\n",
      "\n",
      "See the caveats in the documentation: https://pandas.pydata.org/pandas-docs/stable/user_guide/indexing.html#returning-a-view-versus-a-copy\n",
      "  e_traces[e_traces > 0] = 1 # OPTIONAL: Binarized events\n",
      "C:\\Users\\fgobbo\\Anaconda3\\lib\\site-packages\\pandas\\core\\frame.py:3089: SettingWithCopyWarning: \n",
      "A value is trying to be set on a copy of a slice from a DataFrame\n",
      "\n",
      "See the caveats in the documentation: https://pandas.pydata.org/pandas-docs/stable/user_guide/indexing.html#returning-a-view-versus-a-copy\n",
      "  self._where(-key, value, inplace=True)\n",
      "<ipython-input-16-06f06973c1af>:38: RuntimeWarning: invalid value encountered in true_divide\n",
      "  placeMap = np.divide(rateMap,occMap); placeMap[np.isnan(placeMap)] = 0\n"
     ]
    },
    {
     "name": "stdout",
     "output_type": "stream",
     "text": [
      "1 / 74\n",
      "2 / 74\n",
      "3 / 74\n",
      "4 / 74\n",
      "5 / 74\n",
      "6 / 74\n",
      "7 / 74\n",
      "8 / 74\n",
      "9 / 74\n",
      "10 / 74\n",
      "11 / 74\n",
      "12 / 74\n",
      "13 / 74\n",
      "1000 shuffles completed\n",
      "2000 shuffles completed\n",
      "3000 shuffles completed\n",
      "4000 shuffles completed\n",
      "14 / 74\n"
     ]
    },
    {
     "name": "stderr",
     "output_type": "stream",
     "text": [
      "<ipython-input-16-06f06973c1af>:38: RuntimeWarning: invalid value encountered in true_divide\n",
      "  placeMap = np.divide(rateMap,occMap); placeMap[np.isnan(placeMap)] = 0\n"
     ]
    },
    {
     "name": "stdout",
     "output_type": "stream",
     "text": [
      "1000 shuffles completed\n",
      "2000 shuffles completed\n",
      "3000 shuffles completed\n",
      "4000 shuffles completed\n",
      "15 / 74\n",
      "16 / 74\n",
      "17 / 74\n",
      "18 / 74\n",
      "19 / 74\n"
     ]
    },
    {
     "name": "stderr",
     "output_type": "stream",
     "text": [
      "<ipython-input-16-06f06973c1af>:38: RuntimeWarning: invalid value encountered in true_divide\n",
      "  placeMap = np.divide(rateMap,occMap); placeMap[np.isnan(placeMap)] = 0\n"
     ]
    },
    {
     "name": "stdout",
     "output_type": "stream",
     "text": [
      "1000 shuffles completed\n",
      "2000 shuffles completed\n",
      "3000 shuffles completed\n",
      "4000 shuffles completed\n",
      "20 / 74\n",
      "21 / 74\n",
      "22 / 74\n",
      "23 / 74\n",
      "24 / 74\n"
     ]
    },
    {
     "name": "stderr",
     "output_type": "stream",
     "text": [
      "<ipython-input-16-06f06973c1af>:38: RuntimeWarning: invalid value encountered in true_divide\n",
      "  placeMap = np.divide(rateMap,occMap); placeMap[np.isnan(placeMap)] = 0\n"
     ]
    },
    {
     "name": "stdout",
     "output_type": "stream",
     "text": [
      "1000 shuffles completed\n",
      "2000 shuffles completed\n",
      "3000 shuffles completed\n",
      "4000 shuffles completed\n",
      "25 / 74\n",
      "26 / 74\n",
      "27 / 74\n",
      "28 / 74\n",
      "29 / 74\n",
      "30 / 74\n",
      "31 / 74\n",
      "32 / 74\n",
      "33 / 74\n"
     ]
    },
    {
     "name": "stderr",
     "output_type": "stream",
     "text": [
      "<ipython-input-16-06f06973c1af>:38: RuntimeWarning: invalid value encountered in true_divide\n",
      "  placeMap = np.divide(rateMap,occMap); placeMap[np.isnan(placeMap)] = 0\n"
     ]
    },
    {
     "name": "stdout",
     "output_type": "stream",
     "text": [
      "1000 shuffles completed\n",
      "2000 shuffles completed\n",
      "3000 shuffles completed\n",
      "4000 shuffles completed\n",
      "34 / 74\n",
      "35 / 74\n"
     ]
    },
    {
     "name": "stderr",
     "output_type": "stream",
     "text": [
      "<ipython-input-16-06f06973c1af>:38: RuntimeWarning: invalid value encountered in true_divide\n",
      "  placeMap = np.divide(rateMap,occMap); placeMap[np.isnan(placeMap)] = 0\n"
     ]
    },
    {
     "name": "stdout",
     "output_type": "stream",
     "text": [
      "1000 shuffles completed\n",
      "2000 shuffles completed\n",
      "3000 shuffles completed\n",
      "4000 shuffles completed\n",
      "36 / 74\n",
      "37 / 74\n"
     ]
    },
    {
     "name": "stderr",
     "output_type": "stream",
     "text": [
      "<ipython-input-16-06f06973c1af>:38: RuntimeWarning: invalid value encountered in true_divide\n",
      "  placeMap = np.divide(rateMap,occMap); placeMap[np.isnan(placeMap)] = 0\n"
     ]
    },
    {
     "name": "stdout",
     "output_type": "stream",
     "text": [
      "1000 shuffles completed\n",
      "2000 shuffles completed\n",
      "3000 shuffles completed\n",
      "4000 shuffles completed\n",
      "38 / 74\n",
      "39 / 74\n",
      "40 / 74\n"
     ]
    },
    {
     "name": "stderr",
     "output_type": "stream",
     "text": [
      "<ipython-input-16-06f06973c1af>:38: RuntimeWarning: invalid value encountered in true_divide\n",
      "  placeMap = np.divide(rateMap,occMap); placeMap[np.isnan(placeMap)] = 0\n"
     ]
    },
    {
     "name": "stdout",
     "output_type": "stream",
     "text": [
      "1000 shuffles completed\n",
      "2000 shuffles completed\n",
      "3000 shuffles completed\n",
      "4000 shuffles completed\n",
      "41 / 74\n"
     ]
    },
    {
     "name": "stderr",
     "output_type": "stream",
     "text": [
      "<ipython-input-16-06f06973c1af>:38: RuntimeWarning: invalid value encountered in true_divide\n",
      "  placeMap = np.divide(rateMap,occMap); placeMap[np.isnan(placeMap)] = 0\n"
     ]
    },
    {
     "name": "stdout",
     "output_type": "stream",
     "text": [
      "1000 shuffles completed\n",
      "2000 shuffles completed\n",
      "3000 shuffles completed\n",
      "4000 shuffles completed\n",
      "42 / 74\n",
      "43 / 74\n"
     ]
    },
    {
     "name": "stderr",
     "output_type": "stream",
     "text": [
      "<ipython-input-16-06f06973c1af>:38: RuntimeWarning: invalid value encountered in true_divide\n",
      "  placeMap = np.divide(rateMap,occMap); placeMap[np.isnan(placeMap)] = 0\n"
     ]
    },
    {
     "name": "stdout",
     "output_type": "stream",
     "text": [
      "1000 shuffles completed\n",
      "2000 shuffles completed\n",
      "3000 shuffles completed\n",
      "4000 shuffles completed\n",
      "44 / 74\n"
     ]
    },
    {
     "name": "stderr",
     "output_type": "stream",
     "text": [
      "<ipython-input-16-06f06973c1af>:38: RuntimeWarning: invalid value encountered in true_divide\n",
      "  placeMap = np.divide(rateMap,occMap); placeMap[np.isnan(placeMap)] = 0\n"
     ]
    },
    {
     "name": "stdout",
     "output_type": "stream",
     "text": [
      "1000 shuffles completed\n",
      "2000 shuffles completed\n",
      "3000 shuffles completed\n",
      "4000 shuffles completed\n",
      "45 / 74\n"
     ]
    },
    {
     "name": "stderr",
     "output_type": "stream",
     "text": [
      "<ipython-input-16-06f06973c1af>:38: RuntimeWarning: invalid value encountered in true_divide\n",
      "  placeMap = np.divide(rateMap,occMap); placeMap[np.isnan(placeMap)] = 0\n"
     ]
    },
    {
     "name": "stdout",
     "output_type": "stream",
     "text": [
      "1000 shuffles completed\n",
      "2000 shuffles completed\n",
      "3000 shuffles completed\n",
      "4000 shuffles completed\n",
      "46 / 74\n",
      "47 / 74\n"
     ]
    },
    {
     "name": "stderr",
     "output_type": "stream",
     "text": [
      "<ipython-input-16-06f06973c1af>:38: RuntimeWarning: invalid value encountered in true_divide\n",
      "  placeMap = np.divide(rateMap,occMap); placeMap[np.isnan(placeMap)] = 0\n"
     ]
    },
    {
     "name": "stdout",
     "output_type": "stream",
     "text": [
      "1000 shuffles completed\n",
      "2000 shuffles completed\n",
      "3000 shuffles completed\n",
      "4000 shuffles completed\n",
      "48 / 74\n",
      "49 / 74\n",
      "50 / 74\n",
      "51 / 74\n"
     ]
    },
    {
     "name": "stderr",
     "output_type": "stream",
     "text": [
      "<ipython-input-16-06f06973c1af>:38: RuntimeWarning: invalid value encountered in true_divide\n",
      "  placeMap = np.divide(rateMap,occMap); placeMap[np.isnan(placeMap)] = 0\n"
     ]
    },
    {
     "name": "stdout",
     "output_type": "stream",
     "text": [
      "1000 shuffles completed\n",
      "2000 shuffles completed\n",
      "3000 shuffles completed\n",
      "4000 shuffles completed\n",
      "52 / 74\n"
     ]
    },
    {
     "name": "stderr",
     "output_type": "stream",
     "text": [
      "<ipython-input-16-06f06973c1af>:38: RuntimeWarning: invalid value encountered in true_divide\n",
      "  placeMap = np.divide(rateMap,occMap); placeMap[np.isnan(placeMap)] = 0\n"
     ]
    },
    {
     "name": "stdout",
     "output_type": "stream",
     "text": [
      "1000 shuffles completed\n",
      "2000 shuffles completed\n",
      "3000 shuffles completed\n",
      "4000 shuffles completed\n",
      " C051 Is a place cell with 5 traversals\n",
      "53 / 74\n",
      "54 / 74\n"
     ]
    },
    {
     "name": "stderr",
     "output_type": "stream",
     "text": [
      "<ipython-input-16-06f06973c1af>:38: RuntimeWarning: invalid value encountered in true_divide\n",
      "  placeMap = np.divide(rateMap,occMap); placeMap[np.isnan(placeMap)] = 0\n"
     ]
    },
    {
     "name": "stdout",
     "output_type": "stream",
     "text": [
      "1000 shuffles completed\n",
      "2000 shuffles completed\n",
      "3000 shuffles completed\n",
      "4000 shuffles completed\n",
      "55 / 74\n",
      "56 / 74\n"
     ]
    },
    {
     "name": "stderr",
     "output_type": "stream",
     "text": [
      "<ipython-input-16-06f06973c1af>:38: RuntimeWarning: invalid value encountered in true_divide\n",
      "  placeMap = np.divide(rateMap,occMap); placeMap[np.isnan(placeMap)] = 0\n"
     ]
    },
    {
     "name": "stdout",
     "output_type": "stream",
     "text": [
      "1000 shuffles completed\n",
      "2000 shuffles completed\n",
      "3000 shuffles completed\n",
      "4000 shuffles completed\n",
      "57 / 74\n"
     ]
    },
    {
     "name": "stderr",
     "output_type": "stream",
     "text": [
      "<ipython-input-16-06f06973c1af>:38: RuntimeWarning: invalid value encountered in true_divide\n",
      "  placeMap = np.divide(rateMap,occMap); placeMap[np.isnan(placeMap)] = 0\n"
     ]
    },
    {
     "name": "stdout",
     "output_type": "stream",
     "text": [
      "1000 shuffles completed\n",
      "2000 shuffles completed\n",
      "3000 shuffles completed\n",
      "4000 shuffles completed\n",
      " C056 Is a place cell with 6 traversals\n",
      "58 / 74\n"
     ]
    },
    {
     "name": "stderr",
     "output_type": "stream",
     "text": [
      "<ipython-input-16-06f06973c1af>:38: RuntimeWarning: invalid value encountered in true_divide\n",
      "  placeMap = np.divide(rateMap,occMap); placeMap[np.isnan(placeMap)] = 0\n"
     ]
    },
    {
     "name": "stdout",
     "output_type": "stream",
     "text": [
      "1000 shuffles completed\n",
      "2000 shuffles completed\n",
      "3000 shuffles completed\n",
      "4000 shuffles completed\n",
      "59 / 74\n"
     ]
    },
    {
     "name": "stderr",
     "output_type": "stream",
     "text": [
      "<ipython-input-16-06f06973c1af>:38: RuntimeWarning: invalid value encountered in true_divide\n",
      "  placeMap = np.divide(rateMap,occMap); placeMap[np.isnan(placeMap)] = 0\n"
     ]
    },
    {
     "name": "stdout",
     "output_type": "stream",
     "text": [
      "1000 shuffles completed\n",
      "2000 shuffles completed\n",
      "3000 shuffles completed\n",
      "4000 shuffles completed\n",
      "60 / 74\n",
      "61 / 74\n"
     ]
    },
    {
     "name": "stderr",
     "output_type": "stream",
     "text": [
      "<ipython-input-16-06f06973c1af>:38: RuntimeWarning: invalid value encountered in true_divide\n",
      "  placeMap = np.divide(rateMap,occMap); placeMap[np.isnan(placeMap)] = 0\n"
     ]
    },
    {
     "name": "stdout",
     "output_type": "stream",
     "text": [
      "1000 shuffles completed\n",
      "2000 shuffles completed\n",
      "3000 shuffles completed\n",
      "4000 shuffles completed\n",
      "62 / 74\n",
      "63 / 74\n",
      "64 / 74\n"
     ]
    },
    {
     "name": "stderr",
     "output_type": "stream",
     "text": [
      "<ipython-input-16-06f06973c1af>:38: RuntimeWarning: invalid value encountered in true_divide\n",
      "  placeMap = np.divide(rateMap,occMap); placeMap[np.isnan(placeMap)] = 0\n"
     ]
    },
    {
     "name": "stdout",
     "output_type": "stream",
     "text": [
      "1000 shuffles completed\n",
      "2000 shuffles completed\n",
      "3000 shuffles completed\n",
      "4000 shuffles completed\n",
      "65 / 74\n"
     ]
    },
    {
     "name": "stderr",
     "output_type": "stream",
     "text": [
      "<ipython-input-16-06f06973c1af>:38: RuntimeWarning: invalid value encountered in true_divide\n",
      "  placeMap = np.divide(rateMap,occMap); placeMap[np.isnan(placeMap)] = 0\n"
     ]
    },
    {
     "name": "stdout",
     "output_type": "stream",
     "text": [
      "1000 shuffles completed\n",
      "2000 shuffles completed\n",
      "3000 shuffles completed\n",
      "4000 shuffles completed\n",
      "66 / 74\n",
      "67 / 74\n"
     ]
    },
    {
     "name": "stderr",
     "output_type": "stream",
     "text": [
      "<ipython-input-16-06f06973c1af>:38: RuntimeWarning: invalid value encountered in true_divide\n",
      "  placeMap = np.divide(rateMap,occMap); placeMap[np.isnan(placeMap)] = 0\n"
     ]
    },
    {
     "name": "stdout",
     "output_type": "stream",
     "text": [
      "1000 shuffles completed\n",
      "2000 shuffles completed\n",
      "3000 shuffles completed\n",
      "4000 shuffles completed\n",
      "68 / 74\n",
      "69 / 74\n",
      "70 / 74\n",
      "71 / 74\n",
      "72 / 74\n",
      "73 / 74\n",
      "74 / 74\n"
     ]
    },
    {
     "name": "stderr",
     "output_type": "stream",
     "text": [
      "<ipython-input-16-06f06973c1af>:38: RuntimeWarning: invalid value encountered in true_divide\n",
      "  placeMap = np.divide(rateMap,occMap); placeMap[np.isnan(placeMap)] = 0\n"
     ]
    },
    {
     "name": "stdout",
     "output_type": "stream",
     "text": [
      "1000 shuffles completed\n",
      "2000 shuffles completed\n",
      "3000 shuffles completed\n",
      "4000 shuffles completed\n",
      "2 out of 74 cells have been identified as place cells\n",
      "2.7027027027027026  Percent of cells are place cells\n",
      "H0465 A02 SAM\n",
      "1 / 74\n",
      "2 / 74\n",
      "3 / 74\n",
      "4 / 74\n",
      "5 / 74\n",
      "6 / 74\n",
      "7 / 74\n",
      "8 / 74\n",
      "9 / 74\n",
      "10 / 74\n",
      "11 / 74\n",
      "12 / 74\n",
      "13 / 74\n",
      "14 / 74\n",
      "15 / 74\n",
      "16 / 74\n",
      "17 / 74\n"
     ]
    },
    {
     "name": "stderr",
     "output_type": "stream",
     "text": [
      "<ipython-input-16-06f06973c1af>:28: SettingWithCopyWarning: \n",
      "A value is trying to be set on a copy of a slice from a DataFrame.\n",
      "Try using .loc[row_indexer,col_indexer] = value instead\n",
      "\n",
      "See the caveats in the documentation: https://pandas.pydata.org/pandas-docs/stable/user_guide/indexing.html#returning-a-view-versus-a-copy\n",
      "  e_traces[e_traces > 0] = 1 # OPTIONAL: Binarized events\n",
      "C:\\Users\\fgobbo\\Anaconda3\\lib\\site-packages\\pandas\\core\\frame.py:3089: SettingWithCopyWarning: \n",
      "A value is trying to be set on a copy of a slice from a DataFrame\n",
      "\n",
      "See the caveats in the documentation: https://pandas.pydata.org/pandas-docs/stable/user_guide/indexing.html#returning-a-view-versus-a-copy\n",
      "  self._where(-key, value, inplace=True)\n",
      "<ipython-input-16-06f06973c1af>:38: RuntimeWarning: invalid value encountered in true_divide\n",
      "  placeMap = np.divide(rateMap,occMap); placeMap[np.isnan(placeMap)] = 0\n"
     ]
    },
    {
     "name": "stdout",
     "output_type": "stream",
     "text": [
      "1000 shuffles completed\n",
      "2000 shuffles completed\n",
      "3000 shuffles completed\n",
      "4000 shuffles completed\n",
      " C016 Is a place cell with 6 traversals\n",
      "18 / 74\n"
     ]
    },
    {
     "name": "stderr",
     "output_type": "stream",
     "text": [
      "<ipython-input-16-06f06973c1af>:38: RuntimeWarning: invalid value encountered in true_divide\n",
      "  placeMap = np.divide(rateMap,occMap); placeMap[np.isnan(placeMap)] = 0\n"
     ]
    },
    {
     "name": "stdout",
     "output_type": "stream",
     "text": [
      "1000 shuffles completed\n",
      "2000 shuffles completed\n",
      "3000 shuffles completed\n",
      "4000 shuffles completed\n",
      "19 / 74\n",
      "20 / 74\n",
      "21 / 74\n",
      "22 / 74\n",
      "23 / 74\n",
      "24 / 74\n",
      "25 / 74\n",
      "26 / 74\n",
      "27 / 74\n",
      "28 / 74\n"
     ]
    },
    {
     "name": "stderr",
     "output_type": "stream",
     "text": [
      "<ipython-input-16-06f06973c1af>:38: RuntimeWarning: invalid value encountered in true_divide\n",
      "  placeMap = np.divide(rateMap,occMap); placeMap[np.isnan(placeMap)] = 0\n"
     ]
    },
    {
     "name": "stdout",
     "output_type": "stream",
     "text": [
      "1000 shuffles completed\n",
      "2000 shuffles completed\n",
      "3000 shuffles completed\n",
      "4000 shuffles completed\n",
      "29 / 74\n",
      "30 / 74\n",
      "31 / 74\n",
      "32 / 74\n",
      "33 / 74\n",
      "34 / 74\n",
      "35 / 74\n",
      "36 / 74\n",
      "37 / 74\n"
     ]
    },
    {
     "name": "stderr",
     "output_type": "stream",
     "text": [
      "<ipython-input-16-06f06973c1af>:38: RuntimeWarning: invalid value encountered in true_divide\n",
      "  placeMap = np.divide(rateMap,occMap); placeMap[np.isnan(placeMap)] = 0\n"
     ]
    },
    {
     "name": "stdout",
     "output_type": "stream",
     "text": [
      "1000 shuffles completed\n",
      "2000 shuffles completed\n",
      "3000 shuffles completed\n",
      "4000 shuffles completed\n",
      " C036 Is a place cell with 6 traversals\n",
      "38 / 74\n",
      "39 / 74\n",
      "40 / 74\n",
      "41 / 74\n",
      "42 / 74\n",
      "43 / 74\n"
     ]
    },
    {
     "name": "stderr",
     "output_type": "stream",
     "text": [
      "<ipython-input-16-06f06973c1af>:38: RuntimeWarning: invalid value encountered in true_divide\n",
      "  placeMap = np.divide(rateMap,occMap); placeMap[np.isnan(placeMap)] = 0\n"
     ]
    },
    {
     "name": "stdout",
     "output_type": "stream",
     "text": [
      "1000 shuffles completed\n",
      "2000 shuffles completed\n",
      "3000 shuffles completed\n",
      "4000 shuffles completed\n",
      "44 / 74\n",
      "45 / 74\n",
      "46 / 74\n",
      "47 / 74\n",
      "48 / 74\n",
      "49 / 74\n",
      "50 / 74\n",
      "51 / 74\n",
      "52 / 74\n",
      "53 / 74\n"
     ]
    },
    {
     "name": "stderr",
     "output_type": "stream",
     "text": [
      "<ipython-input-16-06f06973c1af>:38: RuntimeWarning: invalid value encountered in true_divide\n",
      "  placeMap = np.divide(rateMap,occMap); placeMap[np.isnan(placeMap)] = 0\n"
     ]
    },
    {
     "name": "stdout",
     "output_type": "stream",
     "text": [
      "1000 shuffles completed\n",
      "2000 shuffles completed\n",
      "3000 shuffles completed\n",
      "4000 shuffles completed\n",
      "54 / 74\n",
      "55 / 74\n",
      "56 / 74\n"
     ]
    },
    {
     "name": "stderr",
     "output_type": "stream",
     "text": [
      "<ipython-input-16-06f06973c1af>:38: RuntimeWarning: invalid value encountered in true_divide\n",
      "  placeMap = np.divide(rateMap,occMap); placeMap[np.isnan(placeMap)] = 0\n"
     ]
    },
    {
     "name": "stdout",
     "output_type": "stream",
     "text": [
      "1000 shuffles completed\n",
      "2000 shuffles completed\n",
      "3000 shuffles completed\n",
      "4000 shuffles completed\n",
      "57 / 74\n",
      "58 / 74\n",
      "59 / 74\n",
      "60 / 74\n",
      "61 / 74\n"
     ]
    },
    {
     "name": "stderr",
     "output_type": "stream",
     "text": [
      "<ipython-input-16-06f06973c1af>:38: RuntimeWarning: invalid value encountered in true_divide\n",
      "  placeMap = np.divide(rateMap,occMap); placeMap[np.isnan(placeMap)] = 0\n"
     ]
    },
    {
     "name": "stdout",
     "output_type": "stream",
     "text": [
      "1000 shuffles completed\n",
      "2000 shuffles completed\n",
      "3000 shuffles completed\n",
      "4000 shuffles completed\n",
      " C060 Is a place cell with 5 traversals\n",
      "62 / 74\n",
      "63 / 74\n",
      "64 / 74\n",
      "65 / 74\n",
      "66 / 74\n",
      "67 / 74\n",
      "68 / 74\n",
      "69 / 74\n",
      "70 / 74\n",
      "71 / 74\n",
      "72 / 74\n",
      "73 / 74\n",
      "74 / 74\n",
      "3 out of 74 cells have been identified as place cells\n",
      "4.054054054054054  Percent of cells are place cells\n",
      "H0465 P01 CHO\n"
     ]
    },
    {
     "name": "stderr",
     "output_type": "stream",
     "text": [
      "<ipython-input-16-06f06973c1af>:38: RuntimeWarning: invalid value encountered in true_divide\n",
      "  placeMap = np.divide(rateMap,occMap); placeMap[np.isnan(placeMap)] = 0\n",
      "<ipython-input-16-06f06973c1af>:28: SettingWithCopyWarning: \n",
      "A value is trying to be set on a copy of a slice from a DataFrame.\n",
      "Try using .loc[row_indexer,col_indexer] = value instead\n",
      "\n",
      "See the caveats in the documentation: https://pandas.pydata.org/pandas-docs/stable/user_guide/indexing.html#returning-a-view-versus-a-copy\n",
      "  e_traces[e_traces > 0] = 1 # OPTIONAL: Binarized events\n",
      "C:\\Users\\fgobbo\\Anaconda3\\lib\\site-packages\\pandas\\core\\frame.py:3089: SettingWithCopyWarning: \n",
      "A value is trying to be set on a copy of a slice from a DataFrame\n",
      "\n",
      "See the caveats in the documentation: https://pandas.pydata.org/pandas-docs/stable/user_guide/indexing.html#returning-a-view-versus-a-copy\n",
      "  self._where(-key, value, inplace=True)\n",
      "<ipython-input-16-06f06973c1af>:38: RuntimeWarning: invalid value encountered in true_divide\n",
      "  placeMap = np.divide(rateMap,occMap); placeMap[np.isnan(placeMap)] = 0\n"
     ]
    },
    {
     "name": "stdout",
     "output_type": "stream",
     "text": [
      "1 / 104\n",
      "2 / 104\n",
      "3 / 104\n",
      "1000 shuffles completed\n",
      "2000 shuffles completed\n",
      "3000 shuffles completed\n",
      "4000 shuffles completed\n",
      "4 / 104\n",
      "5 / 104\n",
      "6 / 104\n",
      "7 / 104\n",
      "8 / 104\n",
      "9 / 104\n"
     ]
    },
    {
     "name": "stderr",
     "output_type": "stream",
     "text": [
      "<ipython-input-16-06f06973c1af>:38: RuntimeWarning: invalid value encountered in true_divide\n",
      "  placeMap = np.divide(rateMap,occMap); placeMap[np.isnan(placeMap)] = 0\n"
     ]
    },
    {
     "name": "stdout",
     "output_type": "stream",
     "text": [
      "1000 shuffles completed\n",
      "2000 shuffles completed\n",
      "3000 shuffles completed\n",
      "4000 shuffles completed\n",
      "10 / 104\n",
      "11 / 104\n",
      "12 / 104\n",
      "13 / 104\n",
      "14 / 104\n",
      "15 / 104\n",
      "16 / 104\n",
      "17 / 104\n",
      "18 / 104\n"
     ]
    },
    {
     "name": "stderr",
     "output_type": "stream",
     "text": [
      "<ipython-input-16-06f06973c1af>:38: RuntimeWarning: invalid value encountered in true_divide\n",
      "  placeMap = np.divide(rateMap,occMap); placeMap[np.isnan(placeMap)] = 0\n"
     ]
    },
    {
     "name": "stdout",
     "output_type": "stream",
     "text": [
      "1000 shuffles completed\n",
      "2000 shuffles completed\n",
      "3000 shuffles completed\n",
      "4000 shuffles completed\n",
      "19 / 104\n",
      "20 / 104\n",
      "21 / 104\n",
      "22 / 104\n",
      "23 / 104\n",
      "24 / 104\n",
      "25 / 104\n",
      "26 / 104\n",
      "27 / 104\n",
      "28 / 104\n",
      "29 / 104\n",
      "30 / 104\n"
     ]
    },
    {
     "name": "stderr",
     "output_type": "stream",
     "text": [
      "<ipython-input-16-06f06973c1af>:38: RuntimeWarning: invalid value encountered in true_divide\n",
      "  placeMap = np.divide(rateMap,occMap); placeMap[np.isnan(placeMap)] = 0\n"
     ]
    },
    {
     "name": "stdout",
     "output_type": "stream",
     "text": [
      "1000 shuffles completed\n",
      "2000 shuffles completed\n",
      "3000 shuffles completed\n",
      "4000 shuffles completed\n",
      "31 / 104\n",
      "32 / 104\n",
      "33 / 104\n",
      "34 / 104\n",
      "35 / 104\n",
      "36 / 104\n",
      "37 / 104\n",
      "38 / 104\n",
      "39 / 104\n",
      "40 / 104\n",
      "41 / 104\n",
      "42 / 104\n",
      "43 / 104\n",
      "44 / 104\n",
      "45 / 104\n",
      "46 / 104\n",
      "47 / 104\n",
      "48 / 104\n",
      "49 / 104\n",
      "50 / 104\n",
      "51 / 104\n",
      "52 / 104\n"
     ]
    },
    {
     "name": "stderr",
     "output_type": "stream",
     "text": [
      "<ipython-input-16-06f06973c1af>:38: RuntimeWarning: invalid value encountered in true_divide\n",
      "  placeMap = np.divide(rateMap,occMap); placeMap[np.isnan(placeMap)] = 0\n"
     ]
    },
    {
     "name": "stdout",
     "output_type": "stream",
     "text": [
      "1000 shuffles completed\n",
      "2000 shuffles completed\n",
      "3000 shuffles completed\n",
      "4000 shuffles completed\n",
      "53 / 104\n",
      "54 / 104\n",
      "55 / 104\n",
      "56 / 104\n",
      "57 / 104\n",
      "58 / 104\n",
      "59 / 104\n",
      "60 / 104\n",
      "61 / 104\n",
      "62 / 104\n",
      "63 / 104\n",
      "64 / 104\n",
      "65 / 104\n",
      "66 / 104\n",
      "67 / 104\n",
      "68 / 104\n",
      "69 / 104\n",
      "70 / 104\n",
      "71 / 104\n",
      "72 / 104\n",
      "73 / 104\n",
      "74 / 104\n",
      "75 / 104\n",
      "76 / 104\n",
      "77 / 104\n",
      "78 / 104\n",
      "79 / 104\n",
      "80 / 104\n",
      "81 / 104\n",
      "82 / 104\n"
     ]
    },
    {
     "name": "stderr",
     "output_type": "stream",
     "text": [
      "<ipython-input-16-06f06973c1af>:38: RuntimeWarning: invalid value encountered in true_divide\n",
      "  placeMap = np.divide(rateMap,occMap); placeMap[np.isnan(placeMap)] = 0\n"
     ]
    },
    {
     "name": "stdout",
     "output_type": "stream",
     "text": [
      "1000 shuffles completed\n",
      "2000 shuffles completed\n",
      "3000 shuffles completed\n",
      "4000 shuffles completed\n",
      "83 / 104\n"
     ]
    },
    {
     "name": "stderr",
     "output_type": "stream",
     "text": [
      "<ipython-input-16-06f06973c1af>:38: RuntimeWarning: invalid value encountered in true_divide\n",
      "  placeMap = np.divide(rateMap,occMap); placeMap[np.isnan(placeMap)] = 0\n"
     ]
    },
    {
     "name": "stdout",
     "output_type": "stream",
     "text": [
      "1000 shuffles completed\n",
      "2000 shuffles completed\n",
      "3000 shuffles completed\n",
      "4000 shuffles completed\n",
      "84 / 104\n",
      "85 / 104\n",
      "86 / 104\n",
      "87 / 104\n",
      "88 / 104\n",
      "89 / 104\n",
      "90 / 104\n",
      "91 / 104\n",
      "92 / 104\n",
      "93 / 104\n",
      "94 / 104\n",
      "95 / 104\n",
      "96 / 104\n",
      "97 / 104\n",
      "98 / 104\n",
      "99 / 104\n",
      "100 / 104\n",
      "101 / 104\n",
      "102 / 104\n",
      "103 / 104\n",
      "104 / 104\n",
      "0 out of 104 cells have been identified as place cells\n",
      "0.0  Percent of cells are place cells\n",
      "H0465 P01 PRE\n"
     ]
    },
    {
     "name": "stderr",
     "output_type": "stream",
     "text": [
      "<ipython-input-16-06f06973c1af>:38: RuntimeWarning: invalid value encountered in true_divide\n",
      "  placeMap = np.divide(rateMap,occMap); placeMap[np.isnan(placeMap)] = 0\n",
      "<ipython-input-16-06f06973c1af>:28: SettingWithCopyWarning: \n",
      "A value is trying to be set on a copy of a slice from a DataFrame.\n",
      "Try using .loc[row_indexer,col_indexer] = value instead\n",
      "\n",
      "See the caveats in the documentation: https://pandas.pydata.org/pandas-docs/stable/user_guide/indexing.html#returning-a-view-versus-a-copy\n",
      "  e_traces[e_traces > 0] = 1 # OPTIONAL: Binarized events\n",
      "C:\\Users\\fgobbo\\Anaconda3\\lib\\site-packages\\pandas\\core\\frame.py:3089: SettingWithCopyWarning: \n",
      "A value is trying to be set on a copy of a slice from a DataFrame\n",
      "\n",
      "See the caveats in the documentation: https://pandas.pydata.org/pandas-docs/stable/user_guide/indexing.html#returning-a-view-versus-a-copy\n",
      "  self._where(-key, value, inplace=True)\n",
      "<ipython-input-16-06f06973c1af>:38: RuntimeWarning: invalid value encountered in true_divide\n",
      "  placeMap = np.divide(rateMap,occMap); placeMap[np.isnan(placeMap)] = 0\n"
     ]
    },
    {
     "name": "stdout",
     "output_type": "stream",
     "text": [
      "1 / 104\n",
      "2 / 104\n",
      "3 / 104\n",
      "1000 shuffles completed\n",
      "2000 shuffles completed\n",
      "3000 shuffles completed\n",
      "4000 shuffles completed\n",
      "4 / 104\n",
      "5 / 104\n",
      "6 / 104\n",
      "7 / 104\n",
      "8 / 104\n",
      "9 / 104\n",
      "10 / 104\n"
     ]
    },
    {
     "name": "stderr",
     "output_type": "stream",
     "text": [
      "<ipython-input-16-06f06973c1af>:38: RuntimeWarning: invalid value encountered in true_divide\n",
      "  placeMap = np.divide(rateMap,occMap); placeMap[np.isnan(placeMap)] = 0\n"
     ]
    },
    {
     "name": "stdout",
     "output_type": "stream",
     "text": [
      "1000 shuffles completed\n",
      "2000 shuffles completed\n",
      "3000 shuffles completed\n",
      "4000 shuffles completed\n",
      "11 / 104\n",
      "12 / 104\n",
      "13 / 104\n",
      "14 / 104\n",
      "15 / 104\n"
     ]
    },
    {
     "name": "stderr",
     "output_type": "stream",
     "text": [
      "<ipython-input-16-06f06973c1af>:38: RuntimeWarning: invalid value encountered in true_divide\n",
      "  placeMap = np.divide(rateMap,occMap); placeMap[np.isnan(placeMap)] = 0\n"
     ]
    },
    {
     "name": "stdout",
     "output_type": "stream",
     "text": [
      "1000 shuffles completed\n",
      "2000 shuffles completed\n",
      "3000 shuffles completed\n",
      "4000 shuffles completed\n",
      " C077 Is a place cell with 6 traversals\n",
      "16 / 104\n",
      "17 / 104\n"
     ]
    },
    {
     "name": "stderr",
     "output_type": "stream",
     "text": [
      "<ipython-input-16-06f06973c1af>:38: RuntimeWarning: invalid value encountered in true_divide\n",
      "  placeMap = np.divide(rateMap,occMap); placeMap[np.isnan(placeMap)] = 0\n"
     ]
    },
    {
     "name": "stdout",
     "output_type": "stream",
     "text": [
      "1000 shuffles completed\n",
      "2000 shuffles completed\n",
      "3000 shuffles completed\n",
      "4000 shuffles completed\n",
      " C079 Is a place cell with 6 traversals\n",
      "18 / 104\n",
      "19 / 104\n",
      "20 / 104\n",
      "21 / 104\n"
     ]
    },
    {
     "name": "stderr",
     "output_type": "stream",
     "text": [
      "<ipython-input-16-06f06973c1af>:38: RuntimeWarning: invalid value encountered in true_divide\n",
      "  placeMap = np.divide(rateMap,occMap); placeMap[np.isnan(placeMap)] = 0\n"
     ]
    },
    {
     "name": "stdout",
     "output_type": "stream",
     "text": [
      "1000 shuffles completed\n",
      "2000 shuffles completed\n",
      "3000 shuffles completed\n",
      "4000 shuffles completed\n",
      "22 / 104\n"
     ]
    },
    {
     "name": "stderr",
     "output_type": "stream",
     "text": [
      "<ipython-input-16-06f06973c1af>:38: RuntimeWarning: invalid value encountered in true_divide\n",
      "  placeMap = np.divide(rateMap,occMap); placeMap[np.isnan(placeMap)] = 0\n"
     ]
    },
    {
     "name": "stdout",
     "output_type": "stream",
     "text": [
      "1000 shuffles completed\n",
      "2000 shuffles completed\n",
      "3000 shuffles completed\n",
      "4000 shuffles completed\n",
      "23 / 104\n",
      "24 / 104\n",
      "25 / 104\n"
     ]
    },
    {
     "name": "stderr",
     "output_type": "stream",
     "text": [
      "<ipython-input-16-06f06973c1af>:38: RuntimeWarning: invalid value encountered in true_divide\n",
      "  placeMap = np.divide(rateMap,occMap); placeMap[np.isnan(placeMap)] = 0\n"
     ]
    },
    {
     "name": "stdout",
     "output_type": "stream",
     "text": [
      "1000 shuffles completed\n",
      "2000 shuffles completed\n",
      "3000 shuffles completed\n",
      "4000 shuffles completed\n",
      " C083 Is a place cell with 8 traversals\n",
      "26 / 104\n"
     ]
    },
    {
     "name": "stderr",
     "output_type": "stream",
     "text": [
      "<ipython-input-16-06f06973c1af>:38: RuntimeWarning: invalid value encountered in true_divide\n",
      "  placeMap = np.divide(rateMap,occMap); placeMap[np.isnan(placeMap)] = 0\n"
     ]
    },
    {
     "name": "stdout",
     "output_type": "stream",
     "text": [
      "1000 shuffles completed\n",
      "2000 shuffles completed\n",
      "3000 shuffles completed\n",
      "4000 shuffles completed\n",
      "27 / 104\n"
     ]
    },
    {
     "name": "stderr",
     "output_type": "stream",
     "text": [
      "<ipython-input-16-06f06973c1af>:38: RuntimeWarning: invalid value encountered in true_divide\n",
      "  placeMap = np.divide(rateMap,occMap); placeMap[np.isnan(placeMap)] = 0\n"
     ]
    },
    {
     "name": "stdout",
     "output_type": "stream",
     "text": [
      "1000 shuffles completed\n",
      "2000 shuffles completed\n",
      "3000 shuffles completed\n",
      "4000 shuffles completed\n",
      "28 / 104\n",
      "29 / 104\n"
     ]
    },
    {
     "name": "stderr",
     "output_type": "stream",
     "text": [
      "<ipython-input-16-06f06973c1af>:38: RuntimeWarning: invalid value encountered in true_divide\n",
      "  placeMap = np.divide(rateMap,occMap); placeMap[np.isnan(placeMap)] = 0\n"
     ]
    },
    {
     "name": "stdout",
     "output_type": "stream",
     "text": [
      "1000 shuffles completed\n",
      "2000 shuffles completed\n",
      "3000 shuffles completed\n",
      "4000 shuffles completed\n",
      "30 / 104\n",
      "31 / 104\n",
      "32 / 104\n",
      "33 / 104\n"
     ]
    },
    {
     "name": "stderr",
     "output_type": "stream",
     "text": [
      "<ipython-input-16-06f06973c1af>:38: RuntimeWarning: invalid value encountered in true_divide\n",
      "  placeMap = np.divide(rateMap,occMap); placeMap[np.isnan(placeMap)] = 0\n"
     ]
    }
   ],
   "source": [
    "for animal in ANIMALS:\n",
    "    animDIR = os.path.join(dataDir, str(animal),'01_Aligned_LR')\n",
    "    for file in os.listdir(animDIR):\n",
    "        if file != 'traces' and file.endswith('.csv'):\n",
    "            session, stage = file.split('_')[1:3]\n",
    "            print(animal, session, stage)\n",
    "            #Read in aligned events df\n",
    "            meta = pd.read_csv(animDIR+'/'+file)\n",
    "\n",
    "            #Remove all start box activity\n",
    "            a_meta = meta[meta['position']!=12]\n",
    "            a_meta = a_meta[a_meta['position']!=str(12)]\n",
    "\n",
    "            #Only analyse moving points # INCLUDE SPEED FUNCTION HERE\n",
    "            mov_meta = a_meta[a_meta['Movement status']=='moving']\n",
    "            x = mov_meta['x'].values.astype(float)\n",
    "            y = mov_meta['y'].values.astype(float)\n",
    "\n",
    "            #Bin and linearize occupancy\n",
    "            linS, occMap, nBnx, nBny, bx, by = arena_binned(x = x, y = y,\n",
    "                                                            xdim = xdim, ydim = ydim,\n",
    "                                                            pix_cm = pix_cm, pf_cm = pf_cm)\n",
    "\n",
    "            #Isolate and binarize events\n",
    "            e_traces = mov_meta[mov_meta[[col for col in mov_meta if col.startswith(' C')]]\n",
    "                                .loc[:,~(mov_meta[[col for col in mov_meta if col.startswith(' C')]] == \" nan\").any()].columns.values]\n",
    "            cell_IDS = e_traces.columns.values\n",
    "            e_traces[e_traces > 0] = 1 # OPTIONAL: Binarized events\n",
    "            e_traces = e_traces.values.T\n",
    "\n",
    "            criteria = np.zeros((len(e_traces),4));\n",
    "            pcs = []; Percs = []; SI =[]\n",
    "            for i, ev in enumerate(e_traces):\n",
    "                print(i+1,'/',len(cell_IDS))\n",
    "\n",
    "                #Calculate place map\n",
    "                rateMap = sps.csr_matrix((ev,(bx,by)),shape=(nBnx,nBny),dtype=float).todense()\n",
    "                placeMap = np.divide(rateMap,occMap); placeMap[np.isnan(placeMap)] = 0\n",
    "\n",
    "                #CONDITION 1: Exclude cells that have less than n events\n",
    "                if  len([e for e in ev if e > 0]) > n_events:\n",
    "                    criteria[i][0] = int(1)\n",
    "\n",
    "                    #Calculate SI and compare to distribution\n",
    "                    res_eve = list(np.array(ev.reshape(-1,1)).astype(float))\n",
    "                    si = mi_skl(res_eve, linS, discrete_features=True,n_neighbors = 3)\n",
    "                    SI.append(si)\n",
    "\n",
    "                    #Create distribution of SI with shuffled events\n",
    "                    si_shuf = []\n",
    "                    for s in range(shuffles): \n",
    "                        np.random.shuffle(res_eve)\n",
    "                        si_shuf.append(mi_skl(res_eve, t, discrete_features=True, n_neighbors=3))\n",
    "                        if s > 0 and s % 1000 == 0:\n",
    "                            print(s, 'shuffles completed')\n",
    "\n",
    "                    #Calculate percentile\n",
    "                    perc = stats.percentileofscore(si_shuf, si)\n",
    "                    Percs.append(perc)\n",
    "\n",
    "                    #Account for n traversalss random bursting cells\n",
    "                    s_placeMap = gaussian_filter(placeMap, sigma = 1)\n",
    "                    sn_placeMap = np.array(s_placeMap)/np.max(s_placeMap)\n",
    "                    sn_placeMap[sn_placeMap < 0.2] = 0\n",
    "                    pf_idxs = np.argwhere(sn_placeMap > 0)\n",
    "                    S_pf = np.vstack((pf_idxs[:,0],pf_idxs[:,1]))\n",
    "                    linSpf = np.ravel_multi_index(S_pf,(nBnx,nBny))\n",
    "                    tr, rdm_burst = bursting_check(linSpf, linS, ev, tr_delay)\n",
    "\n",
    "                    # CONDITION 2: cell SI > Threshold are considered a Place cell\n",
    "                    if perc >= perc_thresh:\n",
    "                        criteria[i][1] = int(1)\n",
    "\n",
    "                    #CONDITION 3: Number of traversals required   \n",
    "                    if tr > n_tr: \n",
    "                        criteria[i][2] = int(1)\n",
    "\n",
    "                    #CONDITION 4: number of traversals with cell firing  \n",
    "                    if rdm_burst >= tr_thresh: \n",
    "                        criteria[i][3] = int(1)\n",
    "\n",
    "                    #If all place cell criteria, then place cell identified\n",
    "                    if sum(criteria[i]) == 4:\n",
    "                        print(cell_IDS[i], 'Is a place cell with %d traversals' %tr)\n",
    "                        pcs.append(1)\n",
    "                    else:\n",
    "                        pcs.append(0)         \n",
    "                else:\n",
    "                    pcs.append(0)\n",
    "                    SI.append(0)\n",
    "                    Percs.append(0)\n",
    "            \n",
    "            #Read in animal place cell df\n",
    "            pcANI = pd.read_csv(os.path.join(pcDIR, animal + '_place_cell_meta.csv'))\n",
    "            \n",
    "            #Add stage to DF\n",
    "            PC_st = pd.DataFrame({'Cell IDS':cell_IDS,'Place cells':pcs,\n",
    "                                  'Criteria':list(criteria),\n",
    "                                  'Percentile':Percs,\n",
    "                                  'Place cells':pcs,\n",
    "                                  'SI':SI, \n",
    "                                  'Session':session, \n",
    "                                  'Stage':stage})\n",
    "            \n",
    "            pcANI = pcANI.append(PC_st)\n",
    "            pcANI.to_csv(os.path.join(pcDIR, '%s_place_cell_meta.csv' %(animal)), index=False)\n",
    "            print(sum(pcs), 'out of %d cells have been identified as place cells' %len(pcs))\n",
    "            print((sum(pcs)/len(pcs))*100, ' Percent of cells are place cells')"
   ]
  },
  {
   "cell_type": "code",
   "execution_count": null,
   "id": "25c7dd2d",
   "metadata": {},
   "outputs": [],
   "source": []
  }
 ],
 "metadata": {
  "kernelspec": {
   "display_name": "Python 3",
   "language": "python",
   "name": "python3"
  },
  "language_info": {
   "codemirror_mode": {
    "name": "ipython",
    "version": 3
   },
   "file_extension": ".py",
   "mimetype": "text/x-python",
   "name": "python",
   "nbconvert_exporter": "python",
   "pygments_lexer": "ipython3",
   "version": "3.7.3"
  }
 },
 "nbformat": 4,
 "nbformat_minor": 5
}
